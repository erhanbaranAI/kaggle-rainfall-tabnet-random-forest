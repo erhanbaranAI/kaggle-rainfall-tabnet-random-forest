{
 "cells": [
  {
   "cell_type": "code",
   "execution_count": 1,
   "id": "4b1c1858-e118-4d68-b39b-eb62be3a9b0f",
   "metadata": {},
   "outputs": [
    {
     "name": "stdout",
     "output_type": "stream",
     "text": [
      "Collecting pytorch-tabnet\n",
      "  Downloading pytorch_tabnet-4.1.0-py3-none-any.whl.metadata (15 kB)\n",
      "Requirement already satisfied: numpy>=1.17 in c:\\users\\lerha\\anaconda3\\lib\\site-packages (from pytorch-tabnet) (1.26.4)\n",
      "Requirement already satisfied: scikit_learn>0.21 in c:\\users\\lerha\\anaconda3\\lib\\site-packages (from pytorch-tabnet) (1.6.0)\n",
      "Requirement already satisfied: scipy>1.4 in c:\\users\\lerha\\anaconda3\\lib\\site-packages (from pytorch-tabnet) (1.13.1)\n",
      "Requirement already satisfied: torch>=1.3 in c:\\users\\lerha\\anaconda3\\lib\\site-packages (from pytorch-tabnet) (2.6.0)\n",
      "Requirement already satisfied: tqdm>=4.36 in c:\\users\\lerha\\anaconda3\\lib\\site-packages (from pytorch-tabnet) (4.66.5)\n",
      "Requirement already satisfied: joblib>=1.2.0 in c:\\users\\lerha\\anaconda3\\lib\\site-packages (from scikit_learn>0.21->pytorch-tabnet) (1.4.2)\n",
      "Requirement already satisfied: threadpoolctl>=3.1.0 in c:\\users\\lerha\\anaconda3\\lib\\site-packages (from scikit_learn>0.21->pytorch-tabnet) (3.5.0)\n",
      "Requirement already satisfied: filelock in c:\\users\\lerha\\anaconda3\\lib\\site-packages (from torch>=1.3->pytorch-tabnet) (3.13.1)\n",
      "Requirement already satisfied: typing-extensions>=4.10.0 in c:\\users\\lerha\\anaconda3\\lib\\site-packages (from torch>=1.3->pytorch-tabnet) (4.11.0)\n",
      "Requirement already satisfied: networkx in c:\\users\\lerha\\anaconda3\\lib\\site-packages (from torch>=1.3->pytorch-tabnet) (3.3)\n",
      "Requirement already satisfied: jinja2 in c:\\users\\lerha\\anaconda3\\lib\\site-packages (from torch>=1.3->pytorch-tabnet) (3.1.4)\n",
      "Requirement already satisfied: fsspec in c:\\users\\lerha\\anaconda3\\lib\\site-packages (from torch>=1.3->pytorch-tabnet) (2024.6.1)\n",
      "Requirement already satisfied: setuptools in c:\\users\\lerha\\anaconda3\\lib\\site-packages (from torch>=1.3->pytorch-tabnet) (75.1.0)\n",
      "Requirement already satisfied: sympy==1.13.1 in c:\\users\\lerha\\anaconda3\\lib\\site-packages (from torch>=1.3->pytorch-tabnet) (1.13.1)\n",
      "Requirement already satisfied: mpmath<1.4,>=1.1.0 in c:\\users\\lerha\\anaconda3\\lib\\site-packages (from sympy==1.13.1->torch>=1.3->pytorch-tabnet) (1.3.0)\n",
      "Requirement already satisfied: colorama in c:\\users\\lerha\\anaconda3\\lib\\site-packages (from tqdm>=4.36->pytorch-tabnet) (0.4.6)\n",
      "Requirement already satisfied: MarkupSafe>=2.0 in c:\\users\\lerha\\anaconda3\\lib\\site-packages (from jinja2->torch>=1.3->pytorch-tabnet) (2.1.3)\n",
      "Downloading pytorch_tabnet-4.1.0-py3-none-any.whl (44 kB)\n",
      "Installing collected packages: pytorch-tabnet\n",
      "Successfully installed pytorch-tabnet-4.1.0\n"
     ]
    }
   ],
   "source": [
    "#!pip install pytorch-tabnet"
   ]
  },
  {
   "cell_type": "code",
   "execution_count": 3,
   "id": "bdff44bb-8b47-416b-8141-cd667df9e4e1",
   "metadata": {},
   "outputs": [
    {
     "name": "stdout",
     "output_type": "stream",
     "text": [
      "✅ Veri hazırlandı: (2190, 11)\n"
     ]
    },
    {
     "name": "stderr",
     "output_type": "stream",
     "text": [
      "C:\\Users\\lerha\\anaconda3\\Lib\\site-packages\\pytorch_tabnet\\abstract_model.py:82: UserWarning: Device used : cpu\n",
      "  warnings.warn(f\"Device used : {self.device}\")\n"
     ]
    },
    {
     "name": "stdout",
     "output_type": "stream",
     "text": [
      "epoch 0  | loss: 1.00755 | val_0_auc: 0.49783 |  0:00:00s\n",
      "epoch 1  | loss: 0.82151 | val_0_auc: 0.47154 |  0:00:01s\n",
      "epoch 2  | loss: 0.64298 | val_0_auc: 0.59315 |  0:00:02s\n",
      "epoch 3  | loss: 0.5722  | val_0_auc: 0.5532  |  0:00:04s\n",
      "epoch 4  | loss: 0.52792 | val_0_auc: 0.70846 |  0:00:05s\n",
      "epoch 5  | loss: 0.49607 | val_0_auc: 0.71369 |  0:00:07s\n",
      "epoch 6  | loss: 0.46105 | val_0_auc: 0.66813 |  0:00:07s\n",
      "epoch 7  | loss: 0.43713 | val_0_auc: 0.63501 |  0:00:08s\n",
      "epoch 8  | loss: 0.41047 | val_0_auc: 0.55749 |  0:00:09s\n",
      "epoch 9  | loss: 0.39312 | val_0_auc: 0.45293 |  0:00:09s\n",
      "epoch 10 | loss: 0.38621 | val_0_auc: 0.51308 |  0:00:10s\n",
      "epoch 11 | loss: 0.38376 | val_0_auc: 0.51731 |  0:00:11s\n",
      "epoch 12 | loss: 0.36239 | val_0_auc: 0.52974 |  0:00:11s\n",
      "epoch 13 | loss: 0.35739 | val_0_auc: 0.58152 |  0:00:12s\n",
      "epoch 14 | loss: 0.35558 | val_0_auc: 0.5476  |  0:00:13s\n",
      "epoch 15 | loss: 0.35973 | val_0_auc: 0.53023 |  0:00:14s\n",
      "\n",
      "Early stopping occurred at epoch 15 with best_epoch = 5 and best_val_0_auc = 0.71369\n",
      "✅ TabNet modeli eğitildi!\n",
      "✅ Veri hazırlandı: (730, 11)\n",
      "✅ Tahminler submission_tabnet.csv dosyasına kaydedildi!\n"
     ]
    },
    {
     "name": "stderr",
     "output_type": "stream",
     "text": [
      "C:\\Users\\lerha\\anaconda3\\Lib\\site-packages\\pytorch_tabnet\\callbacks.py:172: UserWarning: Best weights from best epoch are automatically used!\n",
      "  warnings.warn(wrn_msg)\n"
     ]
    }
   ],
   "source": [
    "import numpy as np\n",
    "import pandas as pd\n",
    "from pytorch_tabnet.tab_model import TabNetClassifier\n",
    "from sklearn.model_selection import train_test_split\n",
    "from sklearn.preprocessing import LabelEncoder\n",
    "from sklearn.metrics import roc_auc_score\n",
    "import torch\n",
    "\n",
    "# 📌 **Veri Ön İşleme**\n",
    "def preprocess_data(file_path, is_train=True):\n",
    "    df = pd.read_csv(file_path)\n",
    "    \n",
    "    if is_train:\n",
    "        y = df[\"rainfall\"]\n",
    "        X = df.drop(columns=[\"id\", \"rainfall\"])\n",
    "    else:\n",
    "        X = df.drop(columns=[\"id\"])\n",
    "        y = None\n",
    "    \n",
    "    # Eksik değerleri median ile doldur\n",
    "    X.fillna(X.median(), inplace=True)\n",
    "    \n",
    "    # Kategorik değişkenleri sayısala çevir\n",
    "    for col in X.select_dtypes(include=['object']).columns:\n",
    "        X[col] = LabelEncoder().fit_transform(X[col])\n",
    "\n",
    "    print(f\"✅ Veri hazırlandı: {X.shape}\")\n",
    "    \n",
    "    if is_train:\n",
    "        return X, y\n",
    "    return X\n",
    "\n",
    "# 📌 **TabNet Modeli ile Eğitim**\n",
    "def train_tabnet(X_train, y_train):\n",
    "    X_train, X_val, y_train, y_val = train_test_split(X_train, y_train, test_size=0.2, random_state=42)\n",
    "\n",
    "    model = TabNetClassifier(\n",
    "        optimizer_fn=torch.optim.Adam,\n",
    "        optimizer_params={'lr': 2e-2},\n",
    "        scheduler_params={\"step_size\":10, \"gamma\":0.9},\n",
    "        scheduler_fn=torch.optim.lr_scheduler.StepLR,\n",
    "        seed=42,\n",
    "        device_name='cuda' if torch.cuda.is_available() else 'cpu'  # GPU desteği\n",
    "    )\n",
    "\n",
    "    # Modeli eğit\n",
    "    model.fit(\n",
    "        X_train=X_train.values, y_train=y_train.values,\n",
    "        eval_set=[(X_val.values, y_val.values)],\n",
    "        eval_metric=['auc'],\n",
    "        batch_size=1024, virtual_batch_size=128,\n",
    "        max_epochs=100, patience=10\n",
    "    )\n",
    "\n",
    "    print(\"✅ TabNet modeli eğitildi!\")\n",
    "    return model\n",
    "\n",
    "# 📌 **Test verisini işle ve tahmin yap**\n",
    "def predict_and_save(model, test_file, output_file=\"submission_tabnet_fixed.csv\"):\n",
    "    test_df = pd.read_csv(test_file)  # Orijinal test dosyasını yükle\n",
    "    test_ids = test_df[\"id\"]  # Test dosyasındaki ID'leri al\n",
    "    \n",
    "    X_test = preprocess_data(test_file, is_train=False)  # Test verisini işle\n",
    "    \n",
    "    y_pred = model.predict_proba(X_test.values)[:, 1]  # Yağmur olma olasılığı\n",
    "    \n",
    "    # ID'leri olduğu gibi koruyarak tahminleri kaydet\n",
    "    submission = pd.DataFrame({\"id\": test_ids, \"rainfall\": y_pred})\n",
    "    submission.to_csv(output_file, index=False)\n",
    "    \n",
    "    print(f\"✅ Tahminler {output_file} dosyasına kaydedildi!\")\n",
    "\n",
    "# 📌 **Ana Çalıştırma Kısmı**\n",
    "if __name__ == \"__main__\":\n",
    "    train_file = \"train.csv\"\n",
    "    test_file = \"test.csv\"\n",
    "\n",
    "    # Veriyi yükle\n",
    "    X_train, y_train = preprocess_data(train_file, is_train=True)\n",
    "\n",
    "    # Modeli eğit\n",
    "    best_tabnet_model = train_tabnet(X_train, y_train)\n",
    "\n",
    "    # Test seti üzerinde tahmin yap\n",
    "    predict_and_save(best_tabnet_model, test_file)\n"
   ]
  },
  {
   "cell_type": "code",
   "execution_count": null,
   "id": "47c8c159-5f71-4b11-996b-1c12d65b9a06",
   "metadata": {},
   "outputs": [],
   "source": []
  }
 ],
 "metadata": {
  "kernelspec": {
   "display_name": "Python [conda env:base] *",
   "language": "python",
   "name": "conda-base-py"
  },
  "language_info": {
   "codemirror_mode": {
    "name": "ipython",
    "version": 3
   },
   "file_extension": ".py",
   "mimetype": "text/x-python",
   "name": "python",
   "nbconvert_exporter": "python",
   "pygments_lexer": "ipython3",
   "version": "3.12.7"
  }
 },
 "nbformat": 4,
 "nbformat_minor": 5
}
